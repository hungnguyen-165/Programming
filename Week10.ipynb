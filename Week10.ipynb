{
  "nbformat": 4,
  "nbformat_minor": 0,
  "metadata": {
    "colab": {
      "provenance": [],
      "authorship_tag": "ABX9TyMfsTQVVGbF8Tj/OrIWHbLd",
      "include_colab_link": true
    },
    "kernelspec": {
      "name": "python3",
      "display_name": "Python 3"
    },
    "language_info": {
      "name": "python"
    }
  },
  "cells": [
    {
      "cell_type": "markdown",
      "metadata": {
        "id": "view-in-github",
        "colab_type": "text"
      },
      "source": [
        "<a href=\"https://colab.research.google.com/github/hungnguyen-165/Programming/blob/main/Week10.ipynb\" target=\"_parent\"><img src=\"https://colab.research.google.com/assets/colab-badge.svg\" alt=\"Open In Colab\"/></a>"
      ]
    },
    {
      "cell_type": "code",
      "execution_count": null,
      "metadata": {
        "id": "CNIwa7xZuZBX"
      },
      "outputs": [],
      "source": [
        "class Account:\n",
        "    def __init__(self, owner, balance=0):\n",
        "        self.owner = owner\n",
        "        self.__balance = balance  # Private attribute\n",
        "\n",
        "    def deposit(self, amount):\n",
        "        if amount > 0:\n",
        "            self.__balance += amount\n",
        "            print(\"Deposit successful\")"
      ]
    },
    {
      "cell_type": "code",
      "source": [
        "class Book:\n",
        "  def __init__(self, title, author, pages, pulished_year):\n",
        "    self.title = title\n",
        "    self.author = author\n",
        "    self.pages = pages\n",
        "    self.pulished_year = pulished_year\n",
        "  def __display_info(self):\n",
        "    print(f\"Title: {self.title}\")\n",
        "    print(f\"Author: {self.author}\")\n",
        "    print(f\"Pages: {self.pages}\")\n",
        "    print(f\"Pulished Year: {self.pulished_year}\")\n",
        "\n",
        "Book1= Book(\"The Alchemist\", \"Paulo Coelho\", 150, 1993)\n",
        "Book2= Book(\"The Notebook\", \"Nicholas Sparks\", 200, 2012)\n",
        "\n",
        "\n",
        "Book1._Book__display_info()\n",
        "print()\n",
        "Book2._Book__display_info()\n"
      ],
      "metadata": {
        "id": "DhQGS_DOuvti",
        "colab": {
          "base_uri": "https://localhost:8080/"
        },
        "outputId": "64ab4813-c88b-43da-a8a0-576b178ebd3f"
      },
      "execution_count": 8,
      "outputs": [
        {
          "output_type": "stream",
          "name": "stdout",
          "text": [
            "Title: The Alchemist\n",
            "Author: Paulo Coelho\n",
            "Pages: 150\n",
            "Pulished Year: 1993\n",
            "\n",
            "Title: The Notebook\n",
            "Author: Nicholas Sparks\n",
            "Pages: 200\n",
            "Pulished Year: 2012\n"
          ]
        }
      ]
    }
  ]
}