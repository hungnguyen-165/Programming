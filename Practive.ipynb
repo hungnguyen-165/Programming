{
  "nbformat": 4,
  "nbformat_minor": 0,
  "metadata": {
    "colab": {
      "provenance": [],
      "authorship_tag": "ABX9TyN5B5zc37GrUhXCBLmKvfMD",
      "include_colab_link": true
    },
    "kernelspec": {
      "name": "python3",
      "display_name": "Python 3"
    },
    "language_info": {
      "name": "python"
    }
  },
  "cells": [
    {
      "cell_type": "markdown",
      "metadata": {
        "id": "view-in-github",
        "colab_type": "text"
      },
      "source": [
        "<a href=\"https://colab.research.google.com/github/hungnguyen-165/Programming/blob/main/Practive.ipynb\" target=\"_parent\"><img src=\"https://colab.research.google.com/assets/colab-badge.svg\" alt=\"Open In Colab\"/></a>"
      ]
    },
    {
      "cell_type": "code",
      "execution_count": 9,
      "metadata": {
        "colab": {
          "base_uri": "https://localhost:8080/"
        },
        "id": "xi-U48v2U1oU",
        "outputId": "cb82fbee-83f8-43be-e757-25880d8597ca"
      },
      "outputs": [
        {
          "output_type": "stream",
          "name": "stdout",
          "text": [
            "Good everning!\n",
            "\n",
            "this is a text\n",
            "of trying to print\n",
            "several line in one time\n",
            "\n",
            "this is the second way \n",
            "to print multiple line \n",
            "in one time\n"
          ]
        }
      ],
      "source": [
        "print(\"Good everning!\")\n",
        "print()\n",
        "print('''this is a text\n",
        "of trying to print\n",
        "several line in one time''')\n",
        "print()\n",
        "print(\"this is the second way \\nto print multiple line \\nin one time\")\n"
      ]
    }
  ]
}