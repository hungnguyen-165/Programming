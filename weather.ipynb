{
  "nbformat": 4,
  "nbformat_minor": 0,
  "metadata": {
    "colab": {
      "private_outputs": true,
      "provenance": [],
      "include_colab_link": true
    },
    "kernelspec": {
      "name": "python3",
      "display_name": "Python 3"
    },
    "language_info": {
      "name": "python"
    }
  },
  "cells": [
    {
      "cell_type": "markdown",
      "metadata": {
        "id": "view-in-github",
        "colab_type": "text"
      },
      "source": [
        "<a href=\"https://colab.research.google.com/github/hungnguyen-165/Programming/blob/main/weather.ipynb\" target=\"_parent\"><img src=\"https://colab.research.google.com/assets/colab-badge.svg\" alt=\"Open In Colab\"/></a>"
      ]
    },
    {
      "cell_type": "code",
      "source": [
        "!pip install hands-on-ai"
      ],
      "metadata": {
        "collapsed": true,
        "id": "bHNkaPXfv4JB"
      },
      "execution_count": null,
      "outputs": []
    },
    {
      "cell_type": "code",
      "source": [
        "import os\n",
        "\n",
        "os.environ['HANDS_ON_AI_SERVER'] = 'http://ollama.serveur.au'\n",
        "os.environ['HANDS_ON_AI_MODEL'] = 'granite3.2'\n",
        "os.environ['HANDS_ON_AI_API_KEY'] = input('Enter your API key: ')\n",
        "\n",
        "print(os.environ.get('HANDS_ON_AI_SERVER'))\n",
        "print(os.environ.get('HANDS_ON_AI_MODEL'))\n",
        "print(os.environ.get('HANDS_ON_AI_API_KEY'))\n"
      ],
      "metadata": {
        "id": "dRVmO_6m1E_v"
      },
      "execution_count": null,
      "outputs": []
    },
    {
      "cell_type": "code",
      "source": [
        "import json\n",
        "\n",
        "def safe_json_loads(response):\n",
        "    try:\n",
        "        result = json.loads(response)\n",
        "        return result\n",
        "    except json.JSONDecodeError:\n",
        "        return None\n"
      ],
      "metadata": {
        "id": "vMDPgF0a5dgg"
      },
      "execution_count": null,
      "outputs": []
    },
    {
      "cell_type": "code",
      "execution_count": null,
      "metadata": {
        "id": "P2_--EnFkagB"
      },
      "outputs": [],
      "source": [
        "from hands_on_ai.chat import get_response\n",
        "\n",
        "def parse_weather_question(question):\n",
        "    prompt = f\"\"\"Extract location, time period, and weather attribute from\n",
        "    the following question:  {question}\n",
        "    Return the result as a JSON object with keys\n",
        "    - 'location': the specified location, for example Perth, London, Paris (string, if none then is Perth)\n",
        "    - 'time_period': the time period for example, 'today', 'tomorrow', 'next week' (string, today is none)\n",
        "    - 'weather_attribute': The specific weather detail being asked about. This could be:\n",
        "      - 'temperature', 'rain', 'snow', 'wind', 'humidity', 'air quality', or 'UV index'.\n",
        "      - If the question is about an activity (e.g., flying a kite, going to the beach), infer the most relevant weather attribute needed for that activity.\n",
        "      - If no specific detail is asked, return 'general'.\n",
        "    \"\"\"\n",
        "\n",
        "    response = get_response(prompt)\n",
        "    response = safe_json_loads(response)\n",
        "    return response\n",
        "\n",
        "\n",
        "questions = ['What is the weather in Paris for the next week?',\n",
        "             'What is the weather like today?',\n",
        "             'Is it raining?',\n",
        "             'How hotis it today?',\n",
        "             'should I need to use suncream tomorow',\n",
        "             'do i need umbrella in the next 2 days'\n",
        "             ]\n",
        "\n",
        "for question in questions:\n",
        "  response = parse_weather_question(question)\n",
        "  print(response)"
      ]
    },
    {
      "cell_type": "code",
      "source": [
        "question = input('Enter your question: ')\n",
        "response = parse_weather_question(question)\n",
        "print(response)"
      ],
      "metadata": {
        "id": "hfew_OiWvru5"
      },
      "execution_count": null,
      "outputs": []
    },
    {
      "cell_type": "code",
      "source": [],
      "metadata": {
        "id": "H8Jv6gtm4uGb"
      },
      "execution_count": null,
      "outputs": []
    }
  ]
}