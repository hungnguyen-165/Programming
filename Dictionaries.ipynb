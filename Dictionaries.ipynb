{
  "nbformat": 4,
  "nbformat_minor": 0,
  "metadata": {
    "colab": {
      "provenance": [],
      "authorship_tag": "ABX9TyNvl8lDGsp6fOu8SZ3Dwt27",
      "include_colab_link": true
    },
    "kernelspec": {
      "name": "python3",
      "display_name": "Python 3"
    },
    "language_info": {
      "name": "python"
    }
  },
  "cells": [
    {
      "cell_type": "markdown",
      "metadata": {
        "id": "view-in-github",
        "colab_type": "text"
      },
      "source": [
        "<a href=\"https://colab.research.google.com/github/hungnguyen-165/Programming/blob/main/Dictionaries.ipynb\" target=\"_parent\"><img src=\"https://colab.research.google.com/assets/colab-badge.svg\" alt=\"Open In Colab\"/></a>"
      ]
    },
    {
      "cell_type": "code",
      "execution_count": 1,
      "metadata": {
        "colab": {
          "base_uri": "https://localhost:8080/"
        },
        "id": "lz1m-Qkjlo3Z",
        "outputId": "a19cb7a4-2884-4b8b-8ade-4dc883993b5b"
      },
      "outputs": [
        {
          "output_type": "stream",
          "name": "stdout",
          "text": [
            "Total Revenue: $ 4837.55\n"
          ]
        }
      ],
      "source": [
        "sales_data = {\n",
        "    \"P001\": {\"name\": \"Widget A\", \"price\": 9.99, \"qty_sold\": 120},\n",
        "    \"P002\": {\"name\": \"Widget B\", \"price\": 14.50, \"qty_sold\": 85},\n",
        "    \"P003\": {\"name\": \"Widget C\", \"price\": 7.25, \"qty_sold\": 200},\n",
        "    \"P004\": {\"name\": \"Widget D\", \"price\": 12.75, \"qty_sold\": 75}\n",
        "}\n",
        "\n",
        "total_revenue = 0.0\n",
        "\n",
        "for product in sales_data.values():\n",
        "    revenue = product[\"price\"] * product[\"qty_sold\"]\n",
        "    total_revenue += revenue\n",
        "\n",
        "print(\"Total Revenue: $\", round(total_revenue, 2))"
      ]
    },
    {
      "cell_type": "code",
      "source": [
        "sales_data = {\n",
        "    \"P001\": {\"name\": \"Widget A\", \"price\": 9.99, \"qty_sold\": 120},\n",
        "    \"P002\": {\"name\": \"Widget B\", \"price\": 14.50, \"qty_sold\": 85},\n",
        "    \"P003\": {\"name\": \"Widget C\", \"price\": 7.25, \"qty_sold\": 200},\n",
        "    \"P004\": {\"name\": \"Widget D\", \"price\": 12.75, \"qty_sold\": 75}\n",
        "}\n",
        "\n",
        "max_qty = 0\n",
        "best_selling_product = \"\"\n",
        "\n",
        "for product in sales_data.values():\n",
        "    if product[\"qty_sold\"] > max_qty:\n",
        "        max_qty = product[\"qty_sold\"]\n",
        "        best_selling_product = product[\"name\"]\n",
        "\n",
        "print(\"Best-Selling Product:\", best_selling_product)"
      ],
      "metadata": {
        "colab": {
          "base_uri": "https://localhost:8080/"
        },
        "id": "WMemnnbsokmO",
        "outputId": "a8ea8e75-9f5b-489b-88cf-e75089ee01a0"
      },
      "execution_count": 2,
      "outputs": [
        {
          "output_type": "stream",
          "name": "stdout",
          "text": [
            "Best-Selling Product: Widget C\n"
          ]
        }
      ]
    },
    {
      "cell_type": "code",
      "source": [
        "sales_data = {\n",
        "    \"P001\": {\"name\": \"Widget A\", \"price\": 9.99, \"qty_sold\": 120},\n",
        "    \"P002\": {\"name\": \"Widget B\", \"price\": 14.50, \"qty_sold\": 85},\n",
        "    \"P003\": {\"name\": \"Widget C\", \"price\": 7.25, \"qty_sold\": 200},\n",
        "    \"P004\": {\"name\": \"Widget D\", \"price\": 12.75, \"qty_sold\": 75}\n",
        "}\n",
        "\n",
        "for product in sales_data.values():\n",
        "    revenue = product[\"price\"] * product[\"qty_sold\"]\n",
        "    print(f\"{product['name']}: ${revenue:.2f}\")\n",
        "\n",
        "total_revenue = sum(product[\"price\"] * product[\"qty_sold\"] for product in sales_data.values())\n",
        "print(\"\\nTotal Revenue:\", total_revenue)\n",
        "\n",
        "max_qty = max(product[\"qty_sold\"] for product in sales_data.values())\n",
        "best_selling_product = next(product[\"name\"] for product in sales_data.values() if product[\"qty_sold\"] == max_qty)\n",
        "print(\"\\nBest-Selling Product:\", best_selling_product)\n",
        "\n",
        "min_qty = min(product[\"qty_sold\"] for product in sales_data.values())\n",
        "worst_selling_product = next(product[\"name\"] for product in sales_data.values() if product[\"qty_sold\"] == min_qty)\n",
        "print(\"\\nWorst-Selling Product:\", worst_selling_product)\n",
        "\n",
        "max_price = max(product[\"price\"] for product in sales_data.values())\n",
        "most_expensive_product = next(product[\"name\"] for product in sales_data.values() if product[\"price\"] == max_price)\n",
        "print(\"\\nMost Expensive Product:\", most_expensive_product,\",\", f\"${max_price:.2f}\")"
      ],
      "metadata": {
        "colab": {
          "base_uri": "https://localhost:8080/"
        },
        "id": "GXVnuNkcpAQs",
        "outputId": "9075d329-80de-449c-9287-6b2cbe416adb"
      },
      "execution_count": 10,
      "outputs": [
        {
          "output_type": "stream",
          "name": "stdout",
          "text": [
            "Widget A: $1198.80\n",
            "Widget B: $1232.50\n",
            "Widget C: $1450.00\n",
            "Widget D: $956.25\n",
            "\n",
            "Total Revenue: 4837.55\n",
            "\n",
            "Best-Selling Product: Widget C\n",
            "\n",
            "Worst-Selling Product: Widget D\n",
            "\n",
            "Most Expensive Product: Widget B , $14.50\n"
          ]
        }
      ]
    }
  ]
}